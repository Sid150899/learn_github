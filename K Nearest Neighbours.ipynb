{
 "cells": [
  {
   "cell_type": "code",
   "execution_count": 2,
   "metadata": {},
   "outputs": [],
   "source": [
    "import numpy as np\n",
    "import pandas as pd\n",
    "import matplotlib.pyplot as plt"
   ]
  },
  {
   "cell_type": "code",
   "execution_count": 3,
   "metadata": {},
   "outputs": [],
   "source": [
    "X_Train = pd.read_csv(\"Diabetes_XTrain.csv\").values\n",
    "Y_Train = pd.read_csv(\"Diabetes_YTrain.csv\").values\n",
    "X_Test = pd.read_csv(\"Diabetes_Xtest.csv\").values\n",
    "Y_Test = pd.read_csv(\"Diabetes_Ytest.csv\").values\n",
    "Y_Train = Y_Train.reshape((Y_Train.shape[0],))"
   ]
  },
  {
   "cell_type": "code",
   "execution_count": 32,
   "metadata": {},
   "outputs": [
    {
     "name": "stdout",
     "output_type": "stream",
     "text": [
      "0.328125\n"
     ]
    }
   ],
   "source": [
    "def dist(x1,x2):\n",
    "    return np.sqrt(sum((x1-x2)**2))\n",
    "\n",
    "def knn(X_Train , Y_Train , query , K=5):\n",
    "    m = X_Train.shape[0]\n",
    "    val = []\n",
    "    for i in range(m):\n",
    "        d = dist(query,X_Train[i])\n",
    "        val.append((d,Y_Train[i]))\n",
    "    val = sorted(val)\n",
    "    val = val[:K]\n",
    "    val = np.array(val)\n",
    "    new_val = np.unique(val[:,1],return_counts = True)\n",
    "    index = new_val[1].argmax()\n",
    "    pred = new_val[0][index]\n",
    "    return pred\n",
    "\n",
    "def acc(X_Test,Y_Test,X_Train,Y_Train):\n",
    "    m = Y_Test.shape[0]\n",
    "    Y_pred = []\n",
    "    for i in range(m):\n",
    "        p = knn(X_Train , Y_Train , X_Test[i])\n",
    "        Y_pred.append(p)\n",
    "    Y_pred = np.array(Y_pred)\n",
    "    t = Y_pred == Y_Test\n",
    "    accu = float(t[1].sum()/m)\n",
    "    return accu\n",
    "\n",
    "accuracy = acc(X_Test,Y_Test,X_Train,Y_Train)\n",
    "print(accuracy)"
   ]
  },
  {
   "cell_type": "code",
   "execution_count": null,
   "metadata": {},
   "outputs": [],
   "source": []
  },
  {
   "cell_type": "code",
   "execution_count": null,
   "metadata": {},
   "outputs": [],
   "source": [
    ":sorted"
   ]
  },
  {
   "cell_type": "code",
   "execution_count": null,
   "metadata": {},
   "outputs": [],
   "source": []
  }
 ],
 "metadata": {
  "kernelspec": {
   "display_name": "Python 3",
   "language": "python",
   "name": "python3"
  },
  "language_info": {
   "codemirror_mode": {
    "name": "ipython",
    "version": 3
   },
   "file_extension": ".py",
   "mimetype": "text/x-python",
   "name": "python",
   "nbconvert_exporter": "python",
   "pygments_lexer": "ipython3",
   "version": "3.7.0"
  }
 },
 "nbformat": 4,
 "nbformat_minor": 2
}
